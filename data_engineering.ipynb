{
 "cells": [
  {
   "cell_type": "code",
   "execution_count": 1,
   "metadata": {},
   "outputs": [],
   "source": [
    "import pandas as pd\n",
    "import numpy as np"
   ]
  },
  {
   "cell_type": "markdown",
   "metadata": {},
   "source": [
    "# Step 1 - Data Engineering\n",
    "Clint Goodman"
   ]
  },
  {
   "cell_type": "code",
   "execution_count": 2,
   "metadata": {},
   "outputs": [],
   "source": [
    "# load CSV file into a variable\n",
    "measurements_file = \"Resources/hawaii_measurements.csv\"\n",
    "stations_file = \"Resources/hawaii_stations.csv\"\n",
    "\n",
    "#load CSV file data in a dataframe\n",
    "dfMeasurements = pd.read_csv(measurements_file)\n",
    "dfStations = pd.read_csv(stations_file)\n",
    "# dfMeasurements.head()\n",
    "# dfStations.head()"
   ]
  },
  {
   "cell_type": "code",
   "execution_count": 3,
   "metadata": {},
   "outputs": [
    {
     "data": {
      "text/plain": [
       "station      0\n",
       "name         0\n",
       "latitude     0\n",
       "longitude    0\n",
       "elevation    0\n",
       "dtype: int64"
      ]
     },
     "execution_count": 3,
     "metadata": {},
     "output_type": "execute_result"
    }
   ],
   "source": [
    "# Examine data to find missing values\n",
    "# dfMeasurements.describe()\n",
    "dfMeasurements.isnull().sum() # - none\n",
    "# dfStations.describe()\n",
    "dfStations.isna().sum() # - 1447 missing from prcp\n"
   ]
  },
  {
   "cell_type": "code",
   "execution_count": 4,
   "metadata": {},
   "outputs": [],
   "source": [
    "# I chose to replaced all Null/NaN values in the prcp column with the arithmetic mean of the other columns that had a value.\n",
    "# The other option was to simply drop the rows with Null/NaN in the prcp column.\n",
    "# Using the average prcp value allows us to keep the other data points for the other columns with little or no impact to the prcp column\n",
    "dfMeasurementsMean = dfMeasurements.fillna(dfMeasurements.mean())\n",
    "# dfMeasurementsDrop = dfMeasurements.dropna()"
   ]
  },
  {
   "cell_type": "code",
   "execution_count": 5,
   "metadata": {},
   "outputs": [],
   "source": [
    "# Write cleaned dataframe back to \"clean_\" csv files.\n",
    "dfMeasurementsMean.to_csv(\"Resources/clean_hawaii_measurements.csv\", index=False)\n",
    "# dfMeasurementsDrop.to_csv(\"Resources/clean_hawaii_measurements.csv\", index=False)\n",
    "dfStations.to_csv(\"Resources/clean_hawaii_stations.csv\", index=False)"
   ]
  },
  {
   "cell_type": "code",
   "execution_count": null,
   "metadata": {},
   "outputs": [],
   "source": []
  }
 ],
 "metadata": {
  "kernelspec": {
   "display_name": "Python 3",
   "language": "python",
   "name": "python3"
  },
  "language_info": {
   "codemirror_mode": {
    "name": "ipython",
    "version": 3
   },
   "file_extension": ".py",
   "mimetype": "text/x-python",
   "name": "python",
   "nbconvert_exporter": "python",
   "pygments_lexer": "ipython3",
   "version": "3.6.5"
  }
 },
 "nbformat": 4,
 "nbformat_minor": 2
}
