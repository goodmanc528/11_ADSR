{
 "cells": [
  {
   "cell_type": "markdown",
   "metadata": {},
   "source": [
    "# Step 3 - Climate Analysis\n",
    "Clint Goodman"
   ]
  },
  {
   "cell_type": "code",
   "execution_count": null,
   "metadata": {},
   "outputs": [],
   "source": [
    "#Set environment\n",
    "import matplotlib\n",
    "from matplotlib import style\n",
    "style.use('seaborn')\n",
    "import matplotlib.pyplot as plt\n",
    "\n",
    "import pandas as pd\n",
    "import numpy as np\n",
    "from sqlalchemy import create_engine, inspect, and_\n",
    "from sqlalchemy.ext.automap import automap_base\n",
    "from sqlalchemy.orm import Session"
   ]
  },
  {
   "cell_type": "code",
   "execution_count": null,
   "metadata": {},
   "outputs": [],
   "source": [
    "#Create database, setup connection to database, create ORM classes for se\n",
    "\n",
    "engine = create_engine('sqlite:///Resources/hawaii.sqlite')\n",
    "conn = engine.connect()\n",
    "Base = automap_base()\n",
    "Base.metadata.create_all(engine)\n",
    "Base.prepare(engine, reflect=True)"
   ]
  },
  {
   "cell_type": "code",
   "execution_count": null,
   "metadata": {},
   "outputs": [],
   "source": [
    "#verify the names of the tables in the database\n",
    "#Base.classes.keys()"
   ]
  },
  {
   "cell_type": "code",
   "execution_count": null,
   "metadata": {},
   "outputs": [],
   "source": [
    "Measurement = Base.classes.measurements\n",
    "Station = Base.classes.stations\n",
    "session = Session(bind=engine)\n",
    "inspector = inspect(engine)"
   ]
  },
  {
   "cell_type": "code",
   "execution_count": null,
   "metadata": {},
   "outputs": [],
   "source": [
    "#Add additional libraries to environment for this portion of the work.\n",
    "import datetime as dt\n",
    "from sqlalchemy import func, distinct\n",
    "\n",
    "# Determine the date of the most recent record in the Measurements database\n",
    "# Subtract one year (365 days) from that date and convert it to a string\n",
    "# Store date and prcp values for the previous one year (365 days) records\n",
    "newestDate = session.query(Measurement.date).order_by(Measurement.date.desc()).first()\n",
    "yearData = dt.date(2017,8,23) - dt.timedelta(days=365)\n",
    "#print(yearData)\n",
    "\n",
    "\n",
    "#Query database for one year of data from the end of the database. Group by used to calculate the total precipitation for the day (all stations)\n",
    "pastResults = session.query(Measurement.date, Measurement.prcp).\\\n",
    "filter(func.strftime(\"%Y-%m-%d\", Measurement.date) > yearData).\\\n",
    "group_by(Measurement.date).\\\n",
    "order_by(Measurement.date).all()\n",
    "\n",
    "#Store the query results in a datafrme\n",
    "dfResults = pd.DataFrame(pastResults, columns=['Date','Precipitation'])\n",
    "dfResults.set_index('Date', inplace=True)\n",
    "\n",
    "#Plot precipitation results on a bar chart.  Every tenth date was printed on the x axis to make the graph readable\n",
    "x = np.arange(len(dfResults))\n",
    "height = dfResults.loc[:,\"Precipitation\"].tolist()\n",
    "allDates = dfResults.index.values\n",
    "\n",
    "plt.figure(figsize=(18,6))\n",
    "\n",
    "plt.bar(x, height, color='mediumseagreen',alpha=1, align=\"center\", label=\"precipitation\")\n",
    "plt.ylabel(\"Precipitation - All Stations (inches)\")\n",
    "plt.xlabel(\"Date\")\n",
    "plt.xticks(np.arange(0,len(x),step=10), allDates[::10], rotation=60)\n",
    "plt.legend()\n",
    "#plt.tight_layout()\n",
    "plt.savefig(\"Images/3.1_PrcpAnalysis.png\")\n",
    "plt.show()"
   ]
  },
  {
   "cell_type": "code",
   "execution_count": null,
   "metadata": {},
   "outputs": [],
   "source": [
    "#3.1 Precipitation Analysis (cont) - Summary Table of precipitation data\n",
    "dfResults.describe()"
   ]
  },
  {
   "cell_type": "code",
   "execution_count": null,
   "metadata": {},
   "outputs": [],
   "source": [
    "#3.2 Station Analysis - Station Count\n",
    "#Option 1\n",
    "stationCount = session.query(Measurement.station).distinct().count()\n",
    "print(f'There are {stationCount} stations in this analysis.') \n",
    "\n",
    "# Option 2\n",
    "# stationCount = session.query(Station).count()\n",
    "# stationCount\n"
   ]
  },
  {
   "cell_type": "code",
   "execution_count": null,
   "metadata": {},
   "outputs": [],
   "source": [
    "# 3.2 Station Analysis (cont) - Design a query to find the most active stations.\n",
    "stationActivity = session.query(Measurement.station, func.count(Measurement.tobs)).group_by(Measurement.station).order_by(func.count(Measurement.tobs).desc()).all()\n",
    "dfStationActivity = pd.DataFrame(stationActivity, columns=['Station','TOBS'])\n",
    "dfStationActivity.head(10)\n",
    "print(dfStationActivity)\n",
    "print(f'Station {dfStationActivity.Station[0]} had the most temperature observations with {dfStationActivity.TOBS[0]}')\n"
   ]
  },
  {
   "cell_type": "code",
   "execution_count": null,
   "metadata": {},
   "outputs": [],
   "source": [
    "# 3.2 Station Analysis(cont) - Design a query to retrieve the last 12 months of temperature observation data (tobs)\n",
    "\n",
    "tobFreq = session.query(Measurement.tobs).filter(func.strftime(\"%Y-%m-%d\", Measurement.date) > yearData).filter(Measurement.station == \"USC00519281\").all()\n",
    "#tobFreq\n",
    "dftobFreq = pd.DataFrame(tobFreq, columns=['Temperature'])\n",
    "\n",
    "tempList = dftobFreq.loc[:,\"Temperature\"].tolist()\n",
    "tempList\n",
    "\n",
    "fig, ax = plt.subplots()\n",
    "\n",
    "ax.hist(tempList, label=\"tobs\", bins=12)\n",
    "ax.legend(loc=1)\n",
    "ax.set_xlabel(\"Temperature (F)\")\n",
    "ax.set_ylabel(\"Frequency\")\n",
    "fig.savefig('Images/3.2_12Mo_tobs.png')\n"
   ]
  },
  {
   "cell_type": "code",
   "execution_count": null,
   "metadata": {},
   "outputs": [],
   "source": [
    "#3.3 - Temperature Analysis\n",
    "def calc_temps(startDate, endDate):\n",
    "    startDate = \"2017-\" + startDate\n",
    "    endDate = \"2017-\" + endDate\n",
    "    tripAdvisor = session.query(Measurement.date, Measurement.tobs).filter\\\n",
    "    (and_(func.strftime(\"%Y-%m-%d\", Measurement.date) >= startDate,\\\n",
    "          func.strftime(\"%Y-%m-%d\", Measurement.date) < endDate))\\\n",
    "    .order_by(Measurement.date).all()\n",
    "    dftripAdvisor = pd.DataFrame(tripAdvisor, columns=['Date','Temp'])\n",
    "    dftripAdvisor.head()\n",
    "    avgTemp = dftripAdvisor.Temp.mean()\n",
    "    minTemp = dftripAdvisor.Temp.min()\n",
    "    maxTemp = dftripAdvisor.Temp.max()\n",
    "    \n",
    "    return (minTemp, avgTemp, maxTemp)\n",
    "\n",
    "#Prompt user for start and end dates for vacation\n",
    "start = input(\"First day of vacation (mm-dd) \")\n",
    "end = input(\"Last day of vacation (mm-dd) \")\n",
    "calc_temps(start, end)\n",
    "\n",
    "#Unpackage return and print statements to screen\n",
    "minTemp, avgTemp, maxTemp = calc_temps(start, end)\n",
    "print(f'Your vacation starts {start} and ends {end}')\n",
    "print(f'Average Temp for this time in 2017 was {avgTemp}')\n",
    "print(f'Low Temp for this time in 2017 was {minTemp}')\n",
    "print(f'High Temp for this time in 2017 was {maxTemp}')\n",
    "\n",
    "#Build graphical representation of returned values\n",
    "fig, ax = plt.subplots()\n",
    "ax.bar(0, avgTemp, yerr=(maxTemp-minTemp), color='yellowgreen')\n",
    "ax.set_xticks(ticks=[])\n",
    "ax.set_ylabel(\"Temp (F)\")\n",
    "ax.set_title(f'Trip Temp 2017 ({start} to {end})')\n",
    "ax.set_ylim(bottom=0, top=105)\n",
    "fig.set_figwidth(3)\n",
    "fig.set_figheight(9)\n",
    "fig.savefig(\"images/3.3_TempAnalysis_tavg-tmin-max.png\")\n"
   ]
  },
  {
   "cell_type": "code",
   "execution_count": null,
   "metadata": {},
   "outputs": [],
   "source": [
    "#3.4 Optional Queries\n",
    "\n",
    "# Determine the date of the most recent record in the Measurements database\n",
    "# Subtract one year (365 days) from that date and convert it to a string\n",
    "# Store date and prcp values for the previous one year (365 days) records\n",
    "newestDate = session.query(Measurement.date).order_by(Measurement.date.desc()).first()\n",
    "yearData = dt.date(2017,8,23) - dt.timedelta(days=365)\n",
    "#print(yearData)\n",
    "\n",
    "\n",
    "#Query database for one year of data from the end of the database. Group by used to calculate the total precipitation for the day (all stations)\n",
    "pastResults = session.query(\\\n",
    "                            Measurement.station, func.sum(Measurement.prcp)).\\\n",
    "filter(and_(func.strftime(\"%m-%d\", Measurement.date) >= start,\\\n",
    "           func.strftime(\"%m-%d\", Measurement.date) <= end)).\\\n",
    "group_by(Measurement.station).\\\n",
    "order_by(Measurement.station).all()\n",
    "\n",
    "#Store the query results in a datafrme\n",
    "dfResults = pd.DataFrame(pastResults, columns=['Station','Total Rainfall (in)'])\n",
    "dfResults"
   ]
  },
  {
   "cell_type": "code",
   "execution_count": null,
   "metadata": {},
   "outputs": [],
   "source": [
    "def daily_normals(startDate, endDate):\n",
    "    #startDate = \"2017-\" + startDate\n",
    "    #endDate = \"2017-\" + endDate\n",
    "    tripAdvisor2 = session.query(\\\n",
    "                                 Measurement.date,\\\n",
    "                                 func.min(Measurement.tobs).label(\"tmin\"),\\\n",
    "                                 func.avg(Measurement.tobs).label(\"tavg\"),\\\n",
    "                                 func.max(Measurement.tobs).label(\"tmax\"),).\\\n",
    "    filter(and_(func.strftime(\"%m-%d\", Measurement.date) >= startDate,\\\n",
    "          func.strftime(\"%m-%d\", Measurement.date) < endDate)).\\\n",
    "    group_by(Measurement.date).\\\n",
    "    order_by(Measurement.date).all()\n",
    "    dftripAdvisor2 = pd.DataFrame(tripAdvisor2, columns=['Date','tmin','tavg','tmax'])\n",
    "    dftripAdvisor2.set_index('Date', inplace=True)\n",
    "    return (dftripAdvisor2)\n",
    "\n",
    "#Call daily_normals function and send previously entered start and end dates for vacation\n",
    "results = daily_normals(start, end)\n",
    "\n",
    "x = np.arange(len(results))\n",
    "y = [results.loc[:,\"tmin\"].tolist(), results.loc[:,\"tavg\"].tolist(), results.loc[:,\"tmax\"].tolist()]\n",
    "allDates = results.index.values\n",
    "\n",
    "plt.figure(figsize=(18,6))\n",
    "#plt.stackplot(x, y, colors=['c','m','y'], labels=[\"tmin\",\"tavg\",\"tmax\"])\n",
    "#Comment - couldn't find stacked under stackplot.  You guys always say there are different ways to do things...\n",
    "\n",
    "\n",
    "plt.plot(x, y[2], color='c',alpha=1, label=\"tmax\")\n",
    "plt.fill_between(x,y[2],y[1], color='c', alpha=0.5)\n",
    "\n",
    "plt.plot(x, y[1], color='m',alpha=1, label=\"tavg\")\n",
    "plt.fill_between(x,y[1],y[0], color='m', alpha=0.5)\n",
    "\n",
    "plt.plot(x, y[0], color='y',alpha=1,label=\"tmin\")\n",
    "plt.fill_between(x,y[0], color='y', alpha=0.5)\n",
    "\n",
    "plt.title(f\"Temperature for all year between ({start} to {end})\")\n",
    "plt.ylabel(\"Temperature\")\n",
    "plt.xlabel(\"Date\")\n",
    "plt.ylim((60,85))\n",
    "plt.xticks(np.arange(0,len(x),step=5), allDates[::5], rotation=60)\n",
    "plt.legend(loc=\"upper left\")\n",
    "#plt.tight_layout()\n",
    "plt.savefig(\"Images/Bonus.png\")\n",
    "plt.show()\n"
   ]
  },
  {
   "cell_type": "code",
   "execution_count": null,
   "metadata": {},
   "outputs": [],
   "source": []
  }
 ],
 "metadata": {
  "kernelspec": {
   "display_name": "Python 3",
   "language": "python",
   "name": "python3"
  },
  "language_info": {
   "codemirror_mode": {
    "name": "ipython",
    "version": 3
   },
   "file_extension": ".py",
   "mimetype": "text/x-python",
   "name": "python",
   "nbconvert_exporter": "python",
   "pygments_lexer": "ipython3",
   "version": "3.6.5"
  }
 },
 "nbformat": 4,
 "nbformat_minor": 2
}
